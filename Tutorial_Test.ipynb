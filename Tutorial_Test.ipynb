{
  "nbformat": 4,
  "nbformat_minor": 0,
  "metadata": {
    "kernelspec": {
      "display_name": "Python 3",
      "language": "python",
      "name": "python3"
    },
    "language_info": {
      "codemirror_mode": {
        "name": "ipython",
        "version": 3
      },
      "file_extension": ".py",
      "mimetype": "text/x-python",
      "name": "python",
      "nbconvert_exporter": "python",
      "pygments_lexer": "ipython3",
      "version": "3.7.3"
    },
    "colab": {
      "name": "Tutorial_Test.ipynb",
      "provenance": [],
      "collapsed_sections": [
        "-NrGmMqiS9yQ",
        "cgBJd_vDS9yj",
        "CASSFiRCS9y5",
        "mM7dFQqgS9zE",
        "1s9NiJ7pS9zK",
        "P3QTF3o6S9zn",
        "e5FSGxFlS90D"
      ]
    }
  },
  "cells": [
    {
      "cell_type": "markdown",
      "metadata": {
        "id": "7aMs7YxbS9xg",
        "colab_type": "text"
      },
      "source": [
        "# Jupyter Cells"
      ]
    },
    {
      "cell_type": "markdown",
      "metadata": {
        "id": "tg0CjtVSS9xk",
        "colab_type": "text"
      },
      "source": [
        "This rectangle is a \"cell.\" When you select a cell, the border will turn green. There are three cell types: raw, markdown, and code cells. You will typically use markdown cells and code cells. The cell type is shown in the box under the \"Widgets\" tab.\n",
        "This is a markdown cell. You can tell, because there is not a message on the left hand side of the box that says \"In []:.\""
      ]
    },
    {
      "cell_type": "markdown",
      "metadata": {
        "id": "u8fR2GIOS9xn",
        "colab_type": "text"
      },
      "source": [
        "Below is a code cell. You can put \"code\" that you want \"executed\" in these cells.\n",
        "These cells are numbered and have the \"In [cell #]:\" on the left hand side.\n",
        "Click on cell below and press the \">| Run\" button to execute the following code cells. The output of the code will show up underneath the corresponding code cell."
      ]
    },
    {
      "cell_type": "code",
      "metadata": {
        "id": "WxNYSG-xS9xp",
        "colab_type": "code",
        "colab": {}
      },
      "source": [
        "# I can print text.\n",
        "print(\"I am a code cell.\")"
      ],
      "execution_count": 0,
      "outputs": []
    },
    {
      "cell_type": "code",
      "metadata": {
        "id": "g6eZkfTPS9x2",
        "colab_type": "code",
        "colab": {}
      },
      "source": [
        "# I can solve your math problems.\n",
        "2+2"
      ],
      "execution_count": 0,
      "outputs": []
    },
    {
      "cell_type": "code",
      "metadata": {
        "id": "W5pXBOoJS9yC",
        "colab_type": "code",
        "colab": {}
      },
      "source": [
        "# I can \"assign\" numerical values to a variable. \n",
        "x = 1\n",
        "y = x + 4\n",
        "print(\"The value assigned to the variable y is \" + str(y) + \".\")"
      ],
      "execution_count": 0,
      "outputs": []
    },
    {
      "cell_type": "markdown",
      "metadata": {
        "id": "-NrGmMqiS9yQ",
        "colab_type": "text"
      },
      "source": [
        "# Data Types"
      ]
    },
    {
      "cell_type": "code",
      "metadata": {
        "id": "z6Grb_nGS9yR",
        "colab_type": "code",
        "colab": {}
      },
      "source": [
        "# Strings - sequence of characters, define a string with quotation marks \"\" or ''\n",
        "string_ex = \"beans\"\n",
        "print(\"The data type of string_ex is \" + str(type(string_ex)) + \", because \" + string_ex + \" is a sequence of characters.\" + \"\\n\")\n",
        "\n",
        "# You can also define a string using the string function - str()\n",
        "string_function_ex = str(12)\n",
        "print(\"I used the string function \" + str(type(string_function_ex)) + \", therefore I am a coding god.\")"
      ],
      "execution_count": 0,
      "outputs": []
    },
    {
      "cell_type": "code",
      "metadata": {
        "id": "RtXTMK3cS9ya",
        "colab_type": "code",
        "colab": {}
      },
      "source": [
        "# Integers - whole numbers\n",
        "int_ex = 12\n",
        "print(\"The data type of int_ex is \" + str(type(int_ex)) + \", because \" + str(int_ex) + \" is a whole number.\" + \"\\n\")\n",
        "\n",
        "#Floating point numbers - decimals \n",
        "float_ex = 12.00\n",
        "print(\"The data type of float_ex is \" + str(type(float_ex)) + \", because \" + str(float_ex) + \" is a real number.\")\n"
      ],
      "execution_count": 0,
      "outputs": []
    },
    {
      "cell_type": "code",
      "metadata": {
        "id": "yNWNbKjmS9yg",
        "colab_type": "code",
        "colab": {}
      },
      "source": [
        "# Lists/arrays\n",
        "groceries = [\"toilet paper\", \"milk\", \"eggs\"]\n",
        "birthday_months = [1, 4, 5, 6, 8, 10, 11, 12]\n",
        "\n",
        "print(\"My grocery list:\" + str(groceries))\n",
        "print(\"Birthday months to remember:\" + str(birthday_months))"
      ],
      "execution_count": 0,
      "outputs": []
    },
    {
      "cell_type": "markdown",
      "metadata": {
        "id": "cgBJd_vDS9yj",
        "colab_type": "text"
      },
      "source": [
        "# Operators"
      ]
    },
    {
      "cell_type": "code",
      "metadata": {
        "id": "QO3IeSr8S9yk",
        "colab_type": "code",
        "colab": {}
      },
      "source": [
        "# Arithmetic operators: \n",
        "addition = 2+2\n",
        "subtraction = 3-1\n",
        "mulitplication = 2*3\n",
        "exponentiation = 2**3\n",
        "division = 1/3\n",
        "rounded_down_division = 1//3\n",
        "\n",
        "addition, subtraction, mulitplication, exponentiation, division, rounded_down_division"
      ],
      "execution_count": 0,
      "outputs": []
    },
    {
      "cell_type": "code",
      "metadata": {
        "id": "ea1F-qoqS9yq",
        "colab_type": "code",
        "colab": {}
      },
      "source": [
        "# Comparison operators:\n",
        "# equals == \n",
        "# not_equal != \n",
        "# >, >=, <, <=\n",
        "\n",
        "a = 5\n",
        "b = 6\n",
        "\n",
        "a == b, a != b, a < b\n"
      ],
      "execution_count": 0,
      "outputs": []
    },
    {
      "cell_type": "code",
      "metadata": {
        "id": "SNZiJd6ES9yv",
        "colab_type": "code",
        "colab": {}
      },
      "source": [
        "# Boolean operators: \"True\" or \"False\"\n",
        "a_equals_b = (a!=b)\n",
        "a_equals_b"
      ],
      "execution_count": 0,
      "outputs": []
    },
    {
      "cell_type": "code",
      "metadata": {
        "id": "KA0QxBR-S9y0",
        "colab_type": "code",
        "colab": {}
      },
      "source": [
        "# NOT, OR, AND\n",
        "a != b, a|b == 5, a&b == 3"
      ],
      "execution_count": 0,
      "outputs": []
    },
    {
      "cell_type": "markdown",
      "metadata": {
        "id": "CASSFiRCS9y5",
        "colab_type": "text"
      },
      "source": [
        "# Statements"
      ]
    },
    {
      "cell_type": "code",
      "metadata": {
        "id": "NP3OOr-XS9y7",
        "colab_type": "code",
        "colab": {}
      },
      "source": [
        "# print statements\n",
        "print(\"Howdy\")"
      ],
      "execution_count": 0,
      "outputs": []
    },
    {
      "cell_type": "code",
      "metadata": {
        "id": "4cYv1TA2S9y_",
        "colab_type": "code",
        "colab": {}
      },
      "source": [
        "# if-then statements\n",
        "# statement: I can dance.\n",
        "# rewritten statement in if-then form: If I am Heta, then I can dance.\n",
        "\n",
        "me = \"Nik\"\n",
        "if me == \"Heta\":\n",
        "    print(\"Heta can dance.\")\n",
        "else:\n",
        "    print(me + \" can not dance. \\nTrue statement.\")\n"
      ],
      "execution_count": 0,
      "outputs": []
    },
    {
      "cell_type": "markdown",
      "metadata": {
        "id": "mM7dFQqgS9zE",
        "colab_type": "text"
      },
      "source": [
        "# Running Scripts"
      ]
    },
    {
      "cell_type": "code",
      "metadata": {
        "id": "D-omZLM2S9zF",
        "colab_type": "code",
        "colab": {}
      },
      "source": [
        "# I can execute python scripts.\n",
        "%run my_first_program.py"
      ],
      "execution_count": 0,
      "outputs": []
    },
    {
      "cell_type": "markdown",
      "metadata": {
        "id": "1s9NiJ7pS9zK",
        "colab_type": "text"
      },
      "source": [
        "# Reading Files"
      ]
    },
    {
      "cell_type": "markdown",
      "metadata": {
        "id": "odpTpaeUS9zK",
        "colab_type": "text"
      },
      "source": [
        "Setup environment/import extra modules \n",
        "When cells have not finished executing or currently running the desired snippet of code, they will have an * sign next to the \"In [cell #]\" on the left hand side of the cell."
      ]
    },
    {
      "cell_type": "code",
      "metadata": {
        "id": "ZYByKbW2S9zL",
        "colab_type": "code",
        "colab": {}
      },
      "source": [
        "import pandas as pd\n",
        "import matplotlib.pyplot as plt\n",
        "import numpy as np\n",
        "from scipy import stats\n",
        "import seaborn as sns"
      ],
      "execution_count": 0,
      "outputs": []
    },
    {
      "cell_type": "code",
      "metadata": {
        "id": "U7RBlXx8S9zO",
        "colab_type": "code",
        "colab": {}
      },
      "source": [
        "# I can read files.\n",
        "old_data = pd.read_csv(\"states.csv\")\n",
        "old_data.head()"
      ],
      "execution_count": 0,
      "outputs": []
    },
    {
      "cell_type": "code",
      "metadata": {
        "id": "_Flcys9SS9zS",
        "colab_type": "code",
        "colab": {}
      },
      "source": [
        "old_data.tail()"
      ],
      "execution_count": 0,
      "outputs": []
    },
    {
      "cell_type": "code",
      "metadata": {
        "id": "MPljIAE_S9zZ",
        "colab_type": "code",
        "colab": {}
      },
      "source": [
        "# I can fetch files.\n",
        "new_data = \"https://covidtracking.com/api/states.csv\"\n",
        "df = pd.read_csv(new_data)"
      ],
      "execution_count": 0,
      "outputs": []
    },
    {
      "cell_type": "code",
      "metadata": {
        "id": "MQSxrt0bS9zd",
        "colab_type": "code",
        "colab": {}
      },
      "source": [
        "len(old_data), len(df)"
      ],
      "execution_count": 0,
      "outputs": []
    },
    {
      "cell_type": "code",
      "metadata": {
        "id": "9jydL8oPS9zh",
        "colab_type": "code",
        "colab": {}
      },
      "source": [
        "df.head()"
      ],
      "execution_count": 0,
      "outputs": []
    },
    {
      "cell_type": "code",
      "metadata": {
        "id": "frXnT-xJS9zk",
        "colab_type": "code",
        "colab": {}
      },
      "source": [
        "df.dtypes"
      ],
      "execution_count": 0,
      "outputs": []
    },
    {
      "cell_type": "markdown",
      "metadata": {
        "id": "P3QTF3o6S9zn",
        "colab_type": "text"
      },
      "source": [
        "# Data Visualization and Statistics"
      ]
    },
    {
      "cell_type": "code",
      "metadata": {
        "id": "dep7Wg0nS9zo",
        "colab_type": "code",
        "colab": {}
      },
      "source": [
        "# I can make graphs.\n",
        "plt.hist(df['death'], color = 'b')\n",
        "plt.xlabel('deaths')\n",
        "plt.ylabel('no')\n",
        "plt.show()"
      ],
      "execution_count": 0,
      "outputs": []
    },
    {
      "cell_type": "code",
      "metadata": {
        "id": "purnzmlES9zq",
        "colab_type": "code",
        "colab": {}
      },
      "source": [
        "plt.scatter(df['death'], df['positive'])\n",
        "plt.xlabel('deaths')\n",
        "plt.ylabel('positives')\n",
        "plt.show()"
      ],
      "execution_count": 0,
      "outputs": []
    },
    {
      "cell_type": "code",
      "metadata": {
        "id": "ewclsG9GS9zt",
        "colab_type": "code",
        "colab": {}
      },
      "source": [
        "df2 = df[df.state != \"NY\"]\n",
        "len(df2)"
      ],
      "execution_count": 0,
      "outputs": []
    },
    {
      "cell_type": "code",
      "metadata": {
        "id": "9SG1g4-qS9zv",
        "colab_type": "code",
        "colab": {}
      },
      "source": [
        "plt.hist(df2['death'], color = 'g')\n",
        "plt.xlabel('deaths')\n",
        "plt.ylabel('no')\n",
        "plt.show()"
      ],
      "execution_count": 0,
      "outputs": []
    },
    {
      "cell_type": "code",
      "metadata": {
        "id": "pGW8kimyS9zx",
        "colab_type": "code",
        "colab": {}
      },
      "source": [
        "plt.scatter(df2['death'], df2['positive'], color='g')\n",
        "plt.xlabel('deaths')\n",
        "plt.ylabel('positives')\n",
        "plt.show()"
      ],
      "execution_count": 0,
      "outputs": []
    },
    {
      "cell_type": "code",
      "metadata": {
        "id": "fn1T48QoS9zz",
        "colab_type": "code",
        "colab": {}
      },
      "source": [
        "# I can run statistics.\n",
        "coeff = scipy.stats.pearsonr(df2['death'], df2['positive'])\n",
        "coeff"
      ],
      "execution_count": 0,
      "outputs": []
    },
    {
      "cell_type": "code",
      "metadata": {
        "id": "MoPkMJ5uS9z1",
        "colab_type": "code",
        "colab": {}
      },
      "source": [
        "# I can make really cool graphs.\n",
        "colors = np.random.rand(len(df2))\n",
        "area = (30 * np.random.rand(len(df2)))**2\n",
        "plt.scatter(df2['death'], df2['positive'], c=colors, s=area)\n",
        "\n",
        "plt.xlabel('deaths')\n",
        "plt.ylabel('true positives')\n",
        "plt.text(0, 40000, \"r=\" + str(round(coeff[0], 2)) + \"\\np-value=\" + str(round(coeff[1], 31)))\n",
        "plt.show()"
      ],
      "execution_count": 0,
      "outputs": []
    },
    {
      "cell_type": "code",
      "metadata": {
        "id": "HD-VYoE3S9z3",
        "colab_type": "code",
        "colab": {}
      },
      "source": [
        "hist_scatter = sns.jointplot(df2['death'],df2['positive'], color = 'c', kind='reg', truncate=False)"
      ],
      "execution_count": 0,
      "outputs": []
    },
    {
      "cell_type": "code",
      "metadata": {
        "id": "5rtzHzm6S9z5",
        "colab_type": "code",
        "colab": {}
      },
      "source": [
        "hex_scatter = sns.jointplot(df2['death'],df2['positive'], kind=\"hex\", color='r')"
      ],
      "execution_count": 0,
      "outputs": []
    },
    {
      "cell_type": "markdown",
      "metadata": {
        "id": "e5FSGxFlS90D",
        "colab_type": "text"
      },
      "source": [
        "# Images"
      ]
    },
    {
      "cell_type": "code",
      "metadata": {
        "id": "StK42VfuS90D",
        "colab_type": "code",
        "colab": {}
      },
      "source": [
        "# I can import and display images.\n",
        "from IPython.display import Image\n",
        "from IPython.core.display import HTML \n",
        "Image(url= \"https://www.backuslab.com/uploads/1/1/3/5/113537463/published/conference-16.jpg?1531506101\")"
      ],
      "execution_count": 0,
      "outputs": []
    },
    {
      "cell_type": "code",
      "metadata": {
        "id": "dJNAqVLlS90F",
        "colab_type": "code",
        "colab": {}
      },
      "source": [
        ""
      ],
      "execution_count": 0,
      "outputs": []
    }
  ]
}